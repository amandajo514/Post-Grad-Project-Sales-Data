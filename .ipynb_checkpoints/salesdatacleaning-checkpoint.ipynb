{
 "cells": [
  {
   "cell_type": "markdown",
   "id": "559b997f-3167-49df-85ee-e9df5ef4f5ac",
   "metadata": {},
   "source": [
    "Post Grad Independent Project - Sales Data Analyzing & Predicting"
   ]
  },
  {
   "cell_type": "code",
   "execution_count": null,
   "id": "25e64ae2-63a5-4731-930d-32c57788809c",
   "metadata": {},
   "outputs": [],
   "source": []
  }
 ],
 "metadata": {
  "kernelspec": {
   "display_name": "Python 3 (ipykernel)",
   "language": "python",
   "name": "python3"
  },
  "language_info": {
   "codemirror_mode": {
    "name": "ipython",
    "version": 3
   },
   "file_extension": ".py",
   "mimetype": "text/x-python",
   "name": "python",
   "nbconvert_exporter": "python",
   "pygments_lexer": "ipython3",
   "version": "3.11.5"
  }
 },
 "nbformat": 4,
 "nbformat_minor": 5
}
